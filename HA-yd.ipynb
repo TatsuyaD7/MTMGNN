{
 "cells": [
  {
   "cell_type": "code",
   "execution_count": 9,
   "metadata": {
    "ExecuteTime": {
     "end_time": "2021-07-14T04:36:43.115765Z",
     "start_time": "2021-07-14T04:36:42.715435Z"
    }
   },
   "outputs": [
    {
     "name": "stdout",
     "output_type": "stream",
     "text": [
      "YS_pred shape:  (1046, 12, 81, 1)\n",
      "TIMESTEP_IN, TIMESTEP_OUT 12 12\n",
      "YS.shape, YS_pred.shape, (1046, 12, 81, 1) (1046, 12, 81, 1)\n",
      "****************************************\n",
      "all pred steps, HistoricalAverage-yindu, TEST, MSE, RMSE, MAE, MAPE, 1661.2187817199, 40.7580517410, 19.7404869816, 45.5813190508\n",
      "1 step, HistoricalAverage-yindu, TEST, MSE, RMSE, MAE, MAPE, 1660.6581804877, 40.7511739768, 19.7187758185, 45.7608596998\n",
      "2 step, HistoricalAverage-yindu, TEST, MSE, RMSE, MAE, MAPE, 1660.5800934778, 40.7502158703, 19.7195784057, 45.7418495156\n",
      "3 step, HistoricalAverage-yindu, TEST, MSE, RMSE, MAE, MAPE, 1660.6054693955, 40.7505272284, 19.7213724240, 45.7020914947\n",
      "4 step, HistoricalAverage-yindu, TEST, MSE, RMSE, MAE, MAPE, 1660.7729504520, 40.7525821323, 19.7262587635, 45.6569005258\n",
      "5 step, HistoricalAverage-yindu, TEST, MSE, RMSE, MAE, MAPE, 1660.9035361046, 40.7541842773, 19.7305549654, 45.6559383665\n",
      "6 step, HistoricalAverage-yindu, TEST, MSE, RMSE, MAE, MAPE, 1661.0404126242, 40.7558635367, 19.7339187499, 45.5797720587\n",
      "7 step, HistoricalAverage-yindu, TEST, MSE, RMSE, MAE, MAPE, 1661.2752637915, 40.7587446297, 19.7394424380, 45.5386085888\n",
      "8 step, HistoricalAverage-yindu, TEST, MSE, RMSE, MAE, MAPE, 1661.4109246276, 40.7604087888, 19.7432429242, 45.4842681370\n",
      "9 step, HistoricalAverage-yindu, TEST, MSE, RMSE, MAE, MAPE, 1661.6148053726, 40.7629096775, 19.7522130161, 45.4723893538\n",
      "10 step, HistoricalAverage-yindu, TEST, MSE, RMSE, MAE, MAPE, 1661.7732809291, 40.7648535006, 19.7601798739, 45.4578784354\n",
      "11 step, HistoricalAverage-yindu, TEST, MSE, RMSE, MAE, MAPE, 1661.9640134079, 40.7671928566, 19.7679460850, 45.4598075358\n",
      "12 step, HistoricalAverage-yindu, TEST, MSE, RMSE, MAE, MAPE, 1662.0264499681, 40.7679586191, 19.7723603144, 45.4664238691\n"
     ]
    }
   ],
   "source": [
    "import math\n",
    "import pandas as pd\n",
    "import matplotlib.pyplot as plt\n",
    "import numpy as np\n",
    "import datetime\n",
    "from chinese_calendar import is_workday, is_holiday\n",
    "import pickle as pk\n",
    "from Utils import *\n",
    "import Metrics\n",
    "\n",
    "TASK = \"out\"\n",
    "\n",
    "#数据采用统计周期\n",
    "TIME_INTERVAL = 5\n",
    "HIS_DAY = 1\n",
    "\n",
    "#数据开始时间，1日到25日，共25天数据\n",
    "DATA_START_DAY = 1\n",
    "DATA_END_DAY = 25\n",
    "\n",
    "#每天被截取的时间，早晨06:00到晚上23:30\n",
    "DAYSTART = \"06:00\"\n",
    "DAYEND = \"23:30\"\n",
    "\n",
    "N_NODE = 81\n",
    "#输入时间步，输出时间步\n",
    "INPUT_STEP = 12\n",
    "PRED_STEP = 12\n",
    "HORIZON = 1\n",
    "\n",
    "# train test 划分\n",
    "TRAINRATIO = 0.8 # TRAIN + VAL\n",
    "TRAINVALSPLIT = 0.125 # val_ratio = 0.8 * 0.125 = 0.1\n",
    "\n",
    "\n",
    "CHANNEL = 1\n",
    "BATCHSIZE = 16\n",
    "LEARN = 0.001\n",
    "EPOCH = 400\n",
    "PATIENCE = 20\n",
    "\n",
    "OPTIMIZER = 'RMSprop'\n",
    "LOSS = 'MSE'\n",
    "\n",
    "\n",
    "# read data\n",
    "daystartt = datetime.datetime.strptime(DAYSTART, '%H:%M') \n",
    "dayendt = datetime.datetime.strptime(DAYEND, '%H:%M') \n",
    "day_minutes = int((dayendt - daystartt).total_seconds()/60)  #每天有多少分钟的数据\n",
    "day_total_step = math.ceil(day_minutes/TIME_INTERVAL)   #对应每天有多少个step\n",
    "data_in,data_out = read_file(TIME_INTERVAL,DATA_START_DAY,DATA_END_DAY,DAYSTART,DAYEND)  #data数据读取，并且截取 1号到 25号， 06:00 到 23:30的数据\n",
    "if TASK is \"in\":\n",
    "    data = data_in\n",
    "else :\n",
    "    data = data_out\n",
    "# sequential\n",
    "data = data.values.reshape(data.shape[0],data.shape[1],1)\n",
    "seq_data = datasetToSeq(data, INPUT_STEP,PRED_STEP)\n",
    "seq_data = seq_data[:,INPUT_STEP:INPUT_STEP+PRED_STEP,:,:]\n",
    "\n",
    "#testYS\n",
    "start_index = int(seq_data.shape[0]*TRAINRATIO)\n",
    "end_index = seq_data.shape[0]\n",
    "testYS = seq_data[start_index:end_index]\n",
    "\n",
    "#historicalaverage YS_pred\n",
    "YS_pred = []\n",
    "for i in range(start_index,end_index):\n",
    "    his_index =[j for j in range(i-210*HIS_DAY,i,210)]\n",
    "    temp = seq_data[his_index,:,:,:]\n",
    "    temp = np.mean(temp,axis=0)\n",
    "    YS_pred.append(temp)\n",
    "YS_pred = np.array(YS_pred)\n",
    "print('YS_pred shape: ', YS_pred.shape)\n",
    "MODELNAME = 'HistoricalAverage-yindu'\n",
    "PATH = './save'\n",
    "\n",
    "\n",
    "def testModel(name, mode, YS, YS_pred):\n",
    "    print('TIMESTEP_IN, TIMESTEP_OUT', INPUT_STEP, PRED_STEP)\n",
    "    print('YS.shape, YS_pred.shape,', YS.shape, YS_pred.shape)\n",
    "    np.save(PATH + '/' + MODELNAME + '_prediction.npy', YS_pred)\n",
    "    np.save(PATH + '/' + MODELNAME + '_groundtruth.npy', YS)\n",
    "    MSE, RMSE, MAE, MAPE = Metrics.evaluate(YS, YS_pred)\n",
    "    print('*' * 40)\n",
    "    f = open(PATH + '/' + name + '_prediction_scores.txt', 'a')\n",
    "    print(\"all pred steps, %s, %s, MSE, RMSE, MAE, MAPE, %.10f, %.10f, %.10f, %.10f\" % (name, mode, MSE, RMSE, MAE, MAPE))\n",
    "    f.write(\"for past %s days, all pred steps, %s, %s, MSE, RMSE, MAE, MAPE, %.10f, %.10f, %.10f, %.10f\\n\" % (str(HIS_DAY), name, mode, MSE, RMSE, MAE, MAPE))\n",
    "    for i in range(PRED_STEP):\n",
    "        MSE, RMSE, MAE, MAPE = Metrics.evaluate(YS[:, i, :, :], YS_pred[:, i, :, :])\n",
    "        print(\"%d step, %s, %s, MSE, RMSE, MAE, MAPE, %.10f, %.10f, %.10f, %.10f\" % (i+1, name, mode, MSE, RMSE, MAE, MAPE))\n",
    "        f.write(\"%d step, %s, %s, MSE, RMSE, MAE, MAPE, %.10f, %.10f, %.10f, %.10f\\n\" % (i+1, name, mode, MSE, RMSE, MAE, MAPE))\n",
    "    f.close()\n",
    "    \n",
    "testModel(MODELNAME, 'TEST', testYS, YS_pred)"
   ]
  },
  {
   "cell_type": "code",
   "execution_count": null,
   "metadata": {},
   "outputs": [],
   "source": []
  }
 ],
 "metadata": {
  "kernelspec": {
   "display_name": "torch1.7",
   "language": "python",
   "name": "torch1.7"
  },
  "language_info": {
   "codemirror_mode": {
    "name": "ipython",
    "version": 3
   },
   "file_extension": ".py",
   "mimetype": "text/x-python",
   "name": "python",
   "nbconvert_exporter": "python",
   "pygments_lexer": "ipython3",
   "version": "3.7.7"
  },
  "toc": {
   "base_numbering": 1,
   "nav_menu": {},
   "number_sections": true,
   "sideBar": true,
   "skip_h1_title": false,
   "title_cell": "Table of Contents",
   "title_sidebar": "Contents",
   "toc_cell": false,
   "toc_position": {},
   "toc_section_display": true,
   "toc_window_display": false
  },
  "varInspector": {
   "cols": {
    "lenName": 16,
    "lenType": 16,
    "lenVar": 40
   },
   "kernels_config": {
    "python": {
     "delete_cmd_postfix": "",
     "delete_cmd_prefix": "del ",
     "library": "var_list.py",
     "varRefreshCmd": "print(var_dic_list())"
    },
    "r": {
     "delete_cmd_postfix": ") ",
     "delete_cmd_prefix": "rm(",
     "library": "var_list.r",
     "varRefreshCmd": "cat(var_dic_list()) "
    }
   },
   "types_to_exclude": [
    "module",
    "function",
    "builtin_function_or_method",
    "instance",
    "_Feature"
   ],
   "window_display": false
  }
 },
 "nbformat": 4,
 "nbformat_minor": 4
}
