{
 "cells": [
  {
   "cell_type": "code",
   "execution_count": 1,
   "metadata": {
    "ExecuteTime": {
     "end_time": "2021-07-04T11:09:46.559132Z",
     "start_time": "2021-07-04T11:09:45.911971Z"
    }
   },
   "outputs": [],
   "source": [
    "import math\n",
    "import pandas as pd\n",
    "import matplotlib.pyplot as plt\n",
    "import numpy as np\n",
    "import datetime\n",
    "from chinese_calendar import is_workday, is_holiday\n",
    "import pickle as pk\n",
    "from Utils import *\n",
    "import Metrics\n",
    "\n",
    "TASK = \"out\"\n",
    "\n",
    "#数据采用统计周期\n",
    "TIME_INTERVAL = 10\n",
    "\n",
    "#数据开始时间，1日到25日，共25天数据\n",
    "DATA_START_DAY = 1\n",
    "DATA_END_DAY = 25\n",
    "\n",
    "#每天被截取的时间，早晨06:00到晚上23:30\n",
    "DAYSTART = \"06:00\"\n",
    "DAYEND = \"23:30\"\n",
    "\n",
    "N_NODE = 81\n",
    "#输入时间步，输出时间步\n",
    "INPUT_STEP = 12\n",
    "PRED_STEP = 12\n",
    "HORIZON = 1\n",
    "\n",
    "# train test 划分\n",
    "TRAINRATIO = 0.8 # TRAIN + VAL\n",
    "TRAINVALSPLIT = 0.125 # val_ratio = 0.8 * 0.125 = 0.1\n",
    "\n",
    "\n",
    "CHANNEL = 1\n",
    "BATCHSIZE = 16\n",
    "LEARN = 0.001\n",
    "EPOCH = 400\n",
    "PATIENCE = 20\n",
    "\n",
    "OPTIMIZER = 'RMSprop'\n",
    "LOSS = 'MSE'\n",
    "\n",
    "\n",
    "\n",
    "\n",
    "\n",
    "\n",
    "\n",
    "# read data\n",
    "daystartt = datetime.datetime.strptime(DAYSTART, '%H:%M') \n",
    "dayendt = datetime.datetime.strptime(DAYEND, '%H:%M') \n",
    "day_minutes = int((dayendt - daystartt).total_seconds()/60)  #每天有多少分钟的数据\n",
    "day_total_step = math.ceil(day_minutes/TIME_INTERVAL)   #对应每天有多少个step\n",
    "data_in,data_out = read_file(TIME_INTERVAL,DATA_START_DAY,DATA_END_DAY,DAYSTART,DAYEND)  #data数据读取，并且截取 1号到 25号， 06:00 到 23:30的数据\n",
    "if TASK is \"in\":\n",
    "    data = data_in\n",
    "else :\n",
    "    data = data_out\n",
    "# Normalization\n",
    "# from sklearn.preprocessing import StandardScaler\n",
    "# scaler = StandardScaler()\n",
    "# data_nor = scaler.fit_transform(data)\n",
    "#data 转换成sequence\n",
    "data = data.values.reshape(data.shape[0],data.shape[1],1)\n",
    "seq_data = datasetToSeq_daybyday(data, INPUT_STEP,PRED_STEP, day_total_step, day=DATA_END_DAY-DATA_START_DAY+1)\n",
    "seq_data = seq_data.transpose(0,3,1,2)\n",
    "\n",
    "\n",
    "\n",
    "def getXSYS(data, mode):\n",
    "    TRAIN_NUM = int(data.shape[0] * TRAINRATIO)\n",
    "    train_set = data[0:TRAIN_NUM]\n",
    "    test_set = data[TRAIN_NUM:]\n",
    "    XS, YS = [], []\n",
    "    if mode == 'TRAIN': \n",
    "        XS = train_set[:,:,0:INPUT_STEP,:]\n",
    "        YS = train_set[:,:,INPUT_STEP:INPUT_STEP+PRED_STEP,:]\n",
    "    elif mode == 'TEST':\n",
    "        XS = test_set[:,:,0:INPUT_STEP,:]\n",
    "        YS = test_set[:,:,INPUT_STEP:INPUT_STEP+PRED_STEP,:]\n",
    "    return XS, YS\n",
    "\n",
    "trainXS, trainYS = getXSYS(seq_data, 'TRAIN')\n",
    "testXS, testYS = getXSYS(seq_data, 'TEST')"
   ]
  },
  {
   "cell_type": "code",
   "execution_count": 2,
   "metadata": {
    "ExecuteTime": {
     "end_time": "2021-07-04T11:09:46.669423Z",
     "start_time": "2021-07-04T11:09:46.561907Z"
    }
   },
   "outputs": [
    {
     "name": "stdout",
     "output_type": "stream",
     "text": [
      "TIMESTEP_IN, TIMESTEP_OUT 12 12\n",
      "YS.shape, YS_pred.shape, (410, 1, 12, 81) (410, 1, 12, 81)\n",
      "****************************************\n",
      "all pred steps, CopyLastFrame, TEST, RMSE, MAE, MAPE, 167.5728415772, 87.2330397471, 67.8563836991\n",
      "1 step, CopyLastFrame, TEST, RMSE, MAE, MAPE, 203.1112080672, 104.1831376092, 66.8335903978\n",
      "2 step, CopyLastFrame, TEST, RMSE, MAE, MAPE, 198.2200247943, 101.0877145438, 66.2485723593\n",
      "3 step, CopyLastFrame, TEST, RMSE, MAE, MAPE, 189.6667346158, 96.9580849142, 65.6718110099\n",
      "4 step, CopyLastFrame, TEST, RMSE, MAE, MAPE, 180.3138216689, 92.8230954532, 65.2185830929\n",
      "5 step, CopyLastFrame, TEST, RMSE, MAE, MAPE, 171.9586572268, 89.0320084312, 64.8625545639\n",
      "6 step, CopyLastFrame, TEST, RMSE, MAE, MAPE, 160.8957135955, 84.8522734116, 64.6938746642\n",
      "7 step, CopyLastFrame, TEST, RMSE, MAE, MAPE, 153.2350655223, 81.6943691659, 64.8505826523\n",
      "8 step, CopyLastFrame, TEST, RMSE, MAE, MAPE, 149.8259412682, 79.9797952424, 65.5404647628\n",
      "9 step, CopyLastFrame, TEST, RMSE, MAE, MAPE, 147.7452539754, 79.0280939476, 66.8970226052\n",
      "10 step, CopyLastFrame, TEST, RMSE, MAE, MAPE, 146.7384843055, 78.6538392051, 69.5730197382\n",
      "11 step, CopyLastFrame, TEST, RMSE, MAE, MAPE, 146.8290059930, 78.9818127070, 73.4049797685\n",
      "12 step, CopyLastFrame, TEST, RMSE, MAE, MAPE, 147.0727471489, 79.5222523336, 80.4866589089\n"
     ]
    }
   ],
   "source": [
    "MODELNAME = 'CopyLastFrame'\n",
    "PATH = './save'\n",
    "\n",
    "\n",
    "# testXS = scaler.inverse_transform(testXS)\n",
    "# testYS = scaler.inverse_transform(testYS)\n",
    "def CopyLastSteps(XS, YS):\n",
    "    return XS\n",
    "\n",
    "def testModel(name, mode, XS, YS):\n",
    "    print('TIMESTEP_IN, TIMESTEP_OUT', INPUT_STEP, PRED_STEP)\n",
    "    YS_pred = CopyLastSteps(XS, YS)\n",
    "    print('YS.shape, YS_pred.shape,', YS.shape, YS_pred.shape)\n",
    "    np.save(PATH + '/' + MODELNAME + '_prediction.npy', YS_pred)\n",
    "    np.save(PATH + '/' + MODELNAME + '_groundtruth.npy', YS)\n",
    "    _, RMSE, MAE, MAPE = Metrics.evaluate(YS, YS_pred)\n",
    "    print('*' * 40)\n",
    "    f = open(PATH + '/' + name + '_prediction_scores.txt', 'a')\n",
    "    print(\"all pred steps, %s, %s, RMSE, MAE, MAPE, %.10f, %.10f, %.10f\" % (name, mode,RMSE, MAE, MAPE))\n",
    "    f.write(\"all pred steps, %s, %s, RMSE, MAE, MAPE, %.10f, %.10f, %.10f\\n\" % (name, mode, RMSE, MAE, MAPE))\n",
    "    for i in range(PRED_STEP):\n",
    "        _, RMSE, MAE, MAPE = Metrics.evaluate(YS[:, :, i, :], YS_pred[:, :, i, :])\n",
    "        print(\"%d step, %s, %s, RMSE, MAE, MAPE, %.10f, %.10f, %.10f\" % (i+1, name, mode, RMSE, MAE, MAPE))\n",
    "        f.write(\"%d step, %s, %s, RMSE, MAE, MAPE, %.10f, %.10f, %.10f\\n\" % (i+1, name, mode, RMSE, MAE, MAPE))\n",
    "    f.close()\n",
    "    \n",
    "testModel(MODELNAME, 'TEST', testXS, testYS)"
   ]
  },
  {
   "cell_type": "code",
   "execution_count": null,
   "metadata": {},
   "outputs": [],
   "source": []
  }
 ],
 "metadata": {
  "kernelspec": {
   "display_name": "torch1.7",
   "language": "python",
   "name": "torch1.7"
  },
  "language_info": {
   "codemirror_mode": {
    "name": "ipython",
    "version": 3
   },
   "file_extension": ".py",
   "mimetype": "text/x-python",
   "name": "python",
   "nbconvert_exporter": "python",
   "pygments_lexer": "ipython3",
   "version": "3.7.7"
  },
  "toc": {
   "base_numbering": 1,
   "nav_menu": {},
   "number_sections": true,
   "sideBar": true,
   "skip_h1_title": false,
   "title_cell": "Table of Contents",
   "title_sidebar": "Contents",
   "toc_cell": false,
   "toc_position": {},
   "toc_section_display": true,
   "toc_window_display": false
  },
  "varInspector": {
   "cols": {
    "lenName": 16,
    "lenType": 16,
    "lenVar": 40
   },
   "kernels_config": {
    "python": {
     "delete_cmd_postfix": "",
     "delete_cmd_prefix": "del ",
     "library": "var_list.py",
     "varRefreshCmd": "print(var_dic_list())"
    },
    "r": {
     "delete_cmd_postfix": ") ",
     "delete_cmd_prefix": "rm(",
     "library": "var_list.r",
     "varRefreshCmd": "cat(var_dic_list()) "
    }
   },
   "types_to_exclude": [
    "module",
    "function",
    "builtin_function_or_method",
    "instance",
    "_Feature"
   ],
   "window_display": false
  }
 },
 "nbformat": 4,
 "nbformat_minor": 4
}
